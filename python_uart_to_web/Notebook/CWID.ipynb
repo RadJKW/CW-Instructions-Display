{
 "cells": [
  {
   "cell_type": "markdown",
   "metadata": {},
   "source": [
    "# CWID Python Script Layout\n",
    "\n",
    "## Overview \n",
    "- Objectives  \n",
    "- Modules\n",
    "   - Selenium / Chromium (Launch_URL)\n",
    "   - UART(USB_DEVICE, BAUDRATE)\n",
    "   - GPIO ? \n",
    "   - MQTT(Broker, onConnect_message, onDisconnect_message)\n",
    "   - Decode(Message)\n",
    "   - Logging ( for each module ) \n",
    "- Main.py\n",
    "   - Import Modules\n",
    "   - Initialize USB Serial\n",
    "   - Initialize MQTT\n",
    "   \n",
    "\n",
    "\n",
    "- Testing.py\n",
    "\n"
   ]
  },
  {
   "cell_type": "markdown",
   "metadata": {},
   "source": [
    "## CLI notes \n",
    "- [youtube Video](https://www.youtube.com/watch?v=ynd67UwG_cI)\n",
    "\n",
    "uses the following modules: \n",
    "- Rich \n",
    "- Typer\n",
    "- SQL \n",
    "\n",
    "\n"
   ]
  },
  {
   "cell_type": "code",
   "execution_count": null,
   "metadata": {},
   "outputs": [],
   "source": []
  }
 ],
 "metadata": {
  "interpreter": {
   "hash": "e7370f93d1d0cde622a1f8e1c04877d8463912d04d973331ad4851f04de6915a"
  },
  "kernelspec": {
   "display_name": "Python 3.8.10 64-bit",
   "language": "python",
   "name": "python3"
  },
  "language_info": {
   "name": "python",
   "version": "3.8.10"
  },
  "orig_nbformat": 4
 },
 "nbformat": 4,
 "nbformat_minor": 2
}
